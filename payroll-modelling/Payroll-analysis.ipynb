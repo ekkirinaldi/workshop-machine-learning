{
 "cells": [
  {
   "cell_type": "markdown",
   "id": "676b7b74",
   "metadata": {},
   "source": [
    "---\n",
    "# 💸 Payroll Data Analysis || Creating A Model to Predict Salary\n",
    "\n",
    "---"
   ]
  },
  {
   "cell_type": "code",
   "execution_count": 32,
   "id": "bea52bfb",
   "metadata": {
    "_cell_guid": "b1076dfc-b9ad-4769-8c92-a6c4dae69d19",
    "_uuid": "8f2839f25d086af736a60e9eeb907d3b93b6e0e5",
    "execution": {
     "iopub.execute_input": "2024-04-22T21:20:22.862686Z",
     "iopub.status.busy": "2024-04-22T21:20:22.862059Z",
     "iopub.status.idle": "2024-04-22T21:20:23.858951Z",
     "shell.execute_reply": "2024-04-22T21:20:23.857437Z"
    },
    "papermill": {
     "duration": 1.015806,
     "end_time": "2024-04-22T21:20:23.862212",
     "exception": false,
     "start_time": "2024-04-22T21:20:22.846406",
     "status": "completed"
    },
    "tags": []
   },
   "outputs": [],
   "source": [
    "import numpy as np # linear algebra\n",
    "import pandas as pd # data processing, CSV file I/O (e.g. pd.read_csv)"
   ]
  },
  {
   "cell_type": "markdown",
   "id": "6ddd4c2e",
   "metadata": {
    "papermill": {
     "duration": 0.012431,
     "end_time": "2024-04-22T21:20:23.893196",
     "exception": false,
     "start_time": "2024-04-22T21:20:23.880765",
     "status": "completed"
    },
    "tags": []
   },
   "source": [
    "# Import Data and Preprocessing\n",
    "\n",
    "## Context\n",
    "The Los Angeles City Controller Office releases payroll information for all city employees on a quarterly basis since 2013.\n",
    "\n",
    "## Content\n",
    "Data includes department titles, job titles, projected annual salaries (with breakdowns of quarterly pay), bonuses, and benefits information.\n",
    "\n",
    "## Inspiration\n",
    "1. How do benefits and salaries differ for employees across departments and titles? Are there any unusually large differences between lowest and highest employee salaries?\n",
    "2. How have salaries changed over the past three years?\n",
    "3. Have the costs of benefits changed dramatically since the passing of the Affordable Care Act?\n",
    "4. What is the most common government role in Los Angeles?"
   ]
  },
  {
   "cell_type": "code",
   "execution_count": 7,
   "id": "0a6cfa1e",
   "metadata": {
    "execution": {
     "iopub.execute_input": "2024-04-22T21:20:23.920194Z",
     "iopub.status.busy": "2024-04-22T21:20:23.919208Z",
     "iopub.status.idle": "2024-04-22T21:20:23.925426Z",
     "shell.execute_reply": "2024-04-22T21:20:23.924533Z"
    },
    "papermill": {
     "duration": 0.022321,
     "end_time": "2024-04-22T21:20:23.927961",
     "exception": false,
     "start_time": "2024-04-22T21:20:23.905640",
     "status": "completed"
    },
    "tags": []
   },
   "outputs": [],
   "source": [
    "import warnings\n",
    "warnings.filterwarnings('ignore')\n",
    "pd.set_option('display.max_columns', 35)"
   ]
  },
  {
   "cell_type": "code",
   "execution_count": 10,
   "id": "eb0ce205",
   "metadata": {
    "execution": {
     "iopub.execute_input": "2024-04-22T21:20:23.954874Z",
     "iopub.status.busy": "2024-04-22T21:20:23.954387Z",
     "iopub.status.idle": "2024-04-22T21:20:28.708283Z",
     "shell.execute_reply": "2024-04-22T21:20:28.707106Z"
    },
    "papermill": {
     "duration": 4.770998,
     "end_time": "2024-04-22T21:20:28.711058",
     "exception": false,
     "start_time": "2024-04-22T21:20:23.940060",
     "status": "completed"
    },
    "tags": []
   },
   "outputs": [],
   "source": [
    "df_data=pd.read_csv('data-payroll.csv')"
   ]
  },
  {
   "cell_type": "code",
   "execution_count": 11,
   "id": "b3734283",
   "metadata": {
    "execution": {
     "iopub.execute_input": "2024-04-22T21:20:28.736935Z",
     "iopub.status.busy": "2024-04-22T21:20:28.736525Z",
     "iopub.status.idle": "2024-04-22T21:20:28.780909Z",
     "shell.execute_reply": "2024-04-22T21:20:28.779745Z"
    },
    "papermill": {
     "duration": 0.059967,
     "end_time": "2024-04-22T21:20:28.783277",
     "exception": false,
     "start_time": "2024-04-22T21:20:28.723310",
     "status": "completed"
    },
    "tags": []
   },
   "outputs": [
    {
     "data": {
      "text/html": [
       "<div>\n",
       "<style scoped>\n",
       "    .dataframe tbody tr th:only-of-type {\n",
       "        vertical-align: middle;\n",
       "    }\n",
       "\n",
       "    .dataframe tbody tr th {\n",
       "        vertical-align: top;\n",
       "    }\n",
       "\n",
       "    .dataframe thead th {\n",
       "        text-align: right;\n",
       "    }\n",
       "</style>\n",
       "<table border=\"1\" class=\"dataframe\">\n",
       "  <thead>\n",
       "    <tr style=\"text-align: right;\">\n",
       "      <th></th>\n",
       "      <th>Row ID</th>\n",
       "      <th>Year</th>\n",
       "      <th>Department Title</th>\n",
       "      <th>Payroll Department</th>\n",
       "      <th>Record Number</th>\n",
       "      <th>Job Class Title</th>\n",
       "      <th>Employment Type</th>\n",
       "      <th>Hourly or Event Rate</th>\n",
       "      <th>Projected Annual Salary</th>\n",
       "      <th>Q1 Payments</th>\n",
       "      <th>Q2 Payments</th>\n",
       "      <th>Q3 Payments</th>\n",
       "      <th>Q4 Payments</th>\n",
       "      <th>Payments Over Base Pay</th>\n",
       "      <th>% Over Base Pay</th>\n",
       "      <th>Total Payments</th>\n",
       "      <th>Base Pay</th>\n",
       "      <th>Permanent Bonus Pay</th>\n",
       "      <th>Longevity Bonus Pay</th>\n",
       "      <th>Temporary Bonus Pay</th>\n",
       "      <th>Lump Sum Pay</th>\n",
       "      <th>Overtime Pay</th>\n",
       "      <th>Other Pay &amp; Adjustments</th>\n",
       "      <th>Other Pay (Payroll Explorer)</th>\n",
       "      <th>MOU</th>\n",
       "      <th>MOU Title</th>\n",
       "      <th>FMS Department</th>\n",
       "      <th>Job Class</th>\n",
       "      <th>Pay Grade</th>\n",
       "      <th>Average Health Cost</th>\n",
       "      <th>Average Dental Cost</th>\n",
       "      <th>Average Basic Life</th>\n",
       "      <th>Average Benefit Cost</th>\n",
       "      <th>Benefits Plan</th>\n",
       "      <th>Job Class Link</th>\n",
       "    </tr>\n",
       "  </thead>\n",
       "  <tbody>\n",
       "    <tr>\n",
       "      <th>0</th>\n",
       "      <td>111391</td>\n",
       "      <td>2014</td>\n",
       "      <td>Water And Power (DWP)</td>\n",
       "      <td>NaN</td>\n",
       "      <td>1412316577</td>\n",
       "      <td>Commercial Service Representative</td>\n",
       "      <td>Full Time</td>\n",
       "      <td>NaN</td>\n",
       "      <td>$70386.48</td>\n",
       "      <td>$16129.89</td>\n",
       "      <td>$17829.78</td>\n",
       "      <td>$17678.24</td>\n",
       "      <td>$22946.57</td>\n",
       "      <td>$14273.91</td>\n",
       "      <td>23.67%</td>\n",
       "      <td>$74584.48</td>\n",
       "      <td>$60310.57</td>\n",
       "      <td>$0.00</td>\n",
       "      <td>$0.00</td>\n",
       "      <td>$0.00</td>\n",
       "      <td>NaN</td>\n",
       "      <td>$369.12</td>\n",
       "      <td>$13904.79</td>\n",
       "      <td>$13904.79</td>\n",
       "      <td>NaN</td>\n",
       "      <td>NaN</td>\n",
       "      <td>98</td>\n",
       "      <td>1230</td>\n",
       "      <td>NaN</td>\n",
       "      <td>$16842.08</td>\n",
       "      <td>$1282.61</td>\n",
       "      <td>$0.00</td>\n",
       "      <td>$18124.69</td>\n",
       "      <td>DWP</td>\n",
       "      <td>http://per.lacity.org/perspecs/1230.pdf</td>\n",
       "    </tr>\n",
       "    <tr>\n",
       "      <th>1</th>\n",
       "      <td>31732</td>\n",
       "      <td>2013</td>\n",
       "      <td>Police (LAPD)</td>\n",
       "      <td>4301.0</td>\n",
       "      <td>432728338</td>\n",
       "      <td>Police Officer I</td>\n",
       "      <td>Full Time</td>\n",
       "      <td>$25.12</td>\n",
       "      <td>$52450.56</td>\n",
       "      <td>$11331.00</td>\n",
       "      <td>$13859.93</td>\n",
       "      <td>$11968.32</td>\n",
       "      <td>$14048.20</td>\n",
       "      <td>$1700.40</td>\n",
       "      <td>3.43%</td>\n",
       "      <td>$51207.45</td>\n",
       "      <td>$49507.05</td>\n",
       "      <td>$1269.83</td>\n",
       "      <td>$0.00</td>\n",
       "      <td>$239.20</td>\n",
       "      <td>$0.00</td>\n",
       "      <td>$11.13</td>\n",
       "      <td>$180.24</td>\n",
       "      <td>$1689.27</td>\n",
       "      <td>24.0</td>\n",
       "      <td>POLICE OFFICERS UNIT</td>\n",
       "      <td>70</td>\n",
       "      <td>2214</td>\n",
       "      <td>A</td>\n",
       "      <td>$11651.40</td>\n",
       "      <td>$898.08</td>\n",
       "      <td>$191.04</td>\n",
       "      <td>$12740.52</td>\n",
       "      <td>Police</td>\n",
       "      <td>http://per.lacity.org/perspecs/2214.pdf</td>\n",
       "    </tr>\n",
       "    <tr>\n",
       "      <th>2</th>\n",
       "      <td>27697</td>\n",
       "      <td>2013</td>\n",
       "      <td>Police (LAPD)</td>\n",
       "      <td>4301.0</td>\n",
       "      <td>97182506</td>\n",
       "      <td>Police Officer II</td>\n",
       "      <td>Full Time</td>\n",
       "      <td>$42.77</td>\n",
       "      <td>$89303.76</td>\n",
       "      <td>$20036.32</td>\n",
       "      <td>$23479.20</td>\n",
       "      <td>$21153.60</td>\n",
       "      <td>$24360.49</td>\n",
       "      <td>$4120.20</td>\n",
       "      <td>4.85%</td>\n",
       "      <td>$89029.61</td>\n",
       "      <td>$84909.41</td>\n",
       "      <td>$1954.51</td>\n",
       "      <td>$0.00</td>\n",
       "      <td>$1519.00</td>\n",
       "      <td>$0.00</td>\n",
       "      <td>$482.29</td>\n",
       "      <td>$164.40</td>\n",
       "      <td>$3637.91</td>\n",
       "      <td>24.0</td>\n",
       "      <td>POLICE OFFICERS UNIT</td>\n",
       "      <td>70</td>\n",
       "      <td>2214</td>\n",
       "      <td>2</td>\n",
       "      <td>$11651.40</td>\n",
       "      <td>$898.08</td>\n",
       "      <td>$191.04</td>\n",
       "      <td>$12740.52</td>\n",
       "      <td>Police</td>\n",
       "      <td>http://per.lacity.org/perspecs/2214.pdf</td>\n",
       "    </tr>\n",
       "    <tr>\n",
       "      <th>3</th>\n",
       "      <td>14136</td>\n",
       "      <td>2013</td>\n",
       "      <td>Harbor (Port of LA)</td>\n",
       "      <td>3201.0</td>\n",
       "      <td>950136941</td>\n",
       "      <td>Senior Security Officer</td>\n",
       "      <td>Full Time</td>\n",
       "      <td>$28.75</td>\n",
       "      <td>$60028.96</td>\n",
       "      <td>$15793.88</td>\n",
       "      <td>$18560.38</td>\n",
       "      <td>$16471.18</td>\n",
       "      <td>$21110.80</td>\n",
       "      <td>$14275.44</td>\n",
       "      <td>24.76%</td>\n",
       "      <td>$71936.24</td>\n",
       "      <td>$57660.80</td>\n",
       "      <td>$0.00</td>\n",
       "      <td>$1585.72</td>\n",
       "      <td>$935.00</td>\n",
       "      <td>$0.00</td>\n",
       "      <td>$11504.72</td>\n",
       "      <td>$250.00</td>\n",
       "      <td>$2770.72</td>\n",
       "      <td>12.0</td>\n",
       "      <td>SUPV BLUE COLLAR</td>\n",
       "      <td>42</td>\n",
       "      <td>3184</td>\n",
       "      <td>0</td>\n",
       "      <td>$10710.24</td>\n",
       "      <td>$405.24</td>\n",
       "      <td>$11.40</td>\n",
       "      <td>$11126.88</td>\n",
       "      <td>City</td>\n",
       "      <td>http://per.lacity.org/perspecs/3184.pdf</td>\n",
       "    </tr>\n",
       "    <tr>\n",
       "      <th>4</th>\n",
       "      <td>91896</td>\n",
       "      <td>2014</td>\n",
       "      <td>Public Works - Sanitation</td>\n",
       "      <td>7024.0</td>\n",
       "      <td>3230003445</td>\n",
       "      <td>Senior Clerk Typist</td>\n",
       "      <td>Full Time</td>\n",
       "      <td>$30.92</td>\n",
       "      <td>$64553.13</td>\n",
       "      <td>$14700.00</td>\n",
       "      <td>$17313.10</td>\n",
       "      <td>$15257.17</td>\n",
       "      <td>$17313.10</td>\n",
       "      <td>$5191.62</td>\n",
       "      <td>8.74%</td>\n",
       "      <td>$64583.37</td>\n",
       "      <td>$59391.75</td>\n",
       "      <td>$0.00</td>\n",
       "      <td>$4774.25</td>\n",
       "      <td>$0.00</td>\n",
       "      <td>$0.00</td>\n",
       "      <td>$417.37</td>\n",
       "      <td>$0.00</td>\n",
       "      <td>$4774.25</td>\n",
       "      <td>3.0</td>\n",
       "      <td>CLERICAL UNIT</td>\n",
       "      <td>82</td>\n",
       "      <td>1368</td>\n",
       "      <td>0</td>\n",
       "      <td>$11000.40</td>\n",
       "      <td>$409.68</td>\n",
       "      <td>$11.40</td>\n",
       "      <td>$11421.48</td>\n",
       "      <td>City</td>\n",
       "      <td>http://per.lacity.org/perspecs/1368.pdf</td>\n",
       "    </tr>\n",
       "  </tbody>\n",
       "</table>\n",
       "</div>"
      ],
      "text/plain": [
       "   Row ID  Year           Department Title  Payroll Department Record Number  \\\n",
       "0  111391  2014      Water And Power (DWP)                 NaN    1412316577   \n",
       "1   31732  2013              Police (LAPD)              4301.0     432728338   \n",
       "2   27697  2013              Police (LAPD)              4301.0      97182506   \n",
       "3   14136  2013        Harbor (Port of LA)              3201.0     950136941   \n",
       "4   91896  2014  Public Works - Sanitation              7024.0    3230003445   \n",
       "\n",
       "                     Job Class Title Employment Type Hourly or Event Rate  \\\n",
       "0  Commercial Service Representative       Full Time                  NaN   \n",
       "1                   Police Officer I       Full Time               $25.12   \n",
       "2                  Police Officer II       Full Time               $42.77   \n",
       "3            Senior Security Officer       Full Time               $28.75   \n",
       "4                Senior Clerk Typist       Full Time               $30.92   \n",
       "\n",
       "  Projected Annual Salary Q1 Payments Q2 Payments Q3 Payments Q4 Payments  \\\n",
       "0               $70386.48   $16129.89   $17829.78   $17678.24   $22946.57   \n",
       "1               $52450.56   $11331.00   $13859.93   $11968.32   $14048.20   \n",
       "2               $89303.76   $20036.32   $23479.20   $21153.60   $24360.49   \n",
       "3               $60028.96   $15793.88   $18560.38   $16471.18   $21110.80   \n",
       "4               $64553.13   $14700.00   $17313.10   $15257.17   $17313.10   \n",
       "\n",
       "  Payments Over Base Pay % Over Base Pay Total Payments   Base Pay  \\\n",
       "0              $14273.91          23.67%      $74584.48  $60310.57   \n",
       "1               $1700.40           3.43%      $51207.45  $49507.05   \n",
       "2               $4120.20           4.85%      $89029.61  $84909.41   \n",
       "3              $14275.44          24.76%      $71936.24  $57660.80   \n",
       "4               $5191.62           8.74%      $64583.37  $59391.75   \n",
       "\n",
       "  Permanent Bonus Pay Longevity Bonus Pay Temporary Bonus Pay Lump Sum Pay  \\\n",
       "0               $0.00               $0.00               $0.00          NaN   \n",
       "1            $1269.83               $0.00             $239.20        $0.00   \n",
       "2            $1954.51               $0.00            $1519.00        $0.00   \n",
       "3               $0.00            $1585.72             $935.00        $0.00   \n",
       "4               $0.00            $4774.25               $0.00        $0.00   \n",
       "\n",
       "  Overtime Pay Other Pay & Adjustments Other Pay (Payroll Explorer)   MOU  \\\n",
       "0      $369.12               $13904.79                    $13904.79   NaN   \n",
       "1       $11.13                 $180.24                     $1689.27  24.0   \n",
       "2      $482.29                 $164.40                     $3637.91  24.0   \n",
       "3    $11504.72                 $250.00                     $2770.72  12.0   \n",
       "4      $417.37                   $0.00                     $4774.25   3.0   \n",
       "\n",
       "              MOU Title  FMS Department  Job Class Pay Grade  \\\n",
       "0                   NaN              98       1230       NaN   \n",
       "1  POLICE OFFICERS UNIT              70       2214         A   \n",
       "2  POLICE OFFICERS UNIT              70       2214         2   \n",
       "3      SUPV BLUE COLLAR              42       3184         0   \n",
       "4         CLERICAL UNIT              82       1368         0   \n",
       "\n",
       "  Average Health Cost Average Dental Cost Average Basic Life  \\\n",
       "0           $16842.08            $1282.61              $0.00   \n",
       "1           $11651.40             $898.08            $191.04   \n",
       "2           $11651.40             $898.08            $191.04   \n",
       "3           $10710.24             $405.24             $11.40   \n",
       "4           $11000.40             $409.68             $11.40   \n",
       "\n",
       "  Average Benefit Cost Benefits Plan                           Job Class Link  \n",
       "0            $18124.69           DWP  http://per.lacity.org/perspecs/1230.pdf  \n",
       "1            $12740.52        Police  http://per.lacity.org/perspecs/2214.pdf  \n",
       "2            $12740.52        Police  http://per.lacity.org/perspecs/2214.pdf  \n",
       "3            $11126.88          City  http://per.lacity.org/perspecs/3184.pdf  \n",
       "4            $11421.48          City  http://per.lacity.org/perspecs/1368.pdf  "
      ]
     },
     "execution_count": 11,
     "metadata": {},
     "output_type": "execute_result"
    }
   ],
   "source": [
    "df_data.head()"
   ]
  },
  {
   "cell_type": "markdown",
   "id": "a41875e1",
   "metadata": {
    "papermill": {
     "duration": 0.013232,
     "end_time": "2024-04-22T21:20:28.809057",
     "exception": false,
     "start_time": "2024-04-22T21:20:28.795825",
     "status": "completed"
    },
    "tags": []
   },
   "source": [
    "There are a few salary & payments & cost columns have '$' signs and thus are not numbers. Let's remove the sign and convert column into numbers"
   ]
  },
  {
   "cell_type": "code",
   "execution_count": 12,
   "id": "30295e82",
   "metadata": {
    "execution": {
     "iopub.execute_input": "2024-04-22T21:20:28.836059Z",
     "iopub.status.busy": "2024-04-22T21:20:28.835643Z",
     "iopub.status.idle": "2024-04-22T21:20:33.571448Z",
     "shell.execute_reply": "2024-04-22T21:20:33.570280Z"
    },
    "papermill": {
     "duration": 4.752547,
     "end_time": "2024-04-22T21:20:33.574064",
     "exception": false,
     "start_time": "2024-04-22T21:20:28.821517",
     "status": "completed"
    },
    "tags": []
   },
   "outputs": [
    {
     "data": {
      "text/html": [
       "<div>\n",
       "<style scoped>\n",
       "    .dataframe tbody tr th:only-of-type {\n",
       "        vertical-align: middle;\n",
       "    }\n",
       "\n",
       "    .dataframe tbody tr th {\n",
       "        vertical-align: top;\n",
       "    }\n",
       "\n",
       "    .dataframe thead th {\n",
       "        text-align: right;\n",
       "    }\n",
       "</style>\n",
       "<table border=\"1\" class=\"dataframe\">\n",
       "  <thead>\n",
       "    <tr style=\"text-align: right;\">\n",
       "      <th></th>\n",
       "      <th>Row ID</th>\n",
       "      <th>Year</th>\n",
       "      <th>Department Title</th>\n",
       "      <th>Payroll Department</th>\n",
       "      <th>Record Number</th>\n",
       "      <th>Job Class Title</th>\n",
       "      <th>Employment Type</th>\n",
       "      <th>Hourly or Event Rate</th>\n",
       "      <th>Projected Annual Salary</th>\n",
       "      <th>Q1 Payments</th>\n",
       "      <th>Q2 Payments</th>\n",
       "      <th>Q3 Payments</th>\n",
       "      <th>Q4 Payments</th>\n",
       "      <th>Payments Over Base Pay</th>\n",
       "      <th>% Over Base Pay</th>\n",
       "      <th>Total Payments</th>\n",
       "      <th>Base Pay</th>\n",
       "      <th>Permanent Bonus Pay</th>\n",
       "      <th>Longevity Bonus Pay</th>\n",
       "      <th>Temporary Bonus Pay</th>\n",
       "      <th>Lump Sum Pay</th>\n",
       "      <th>Overtime Pay</th>\n",
       "      <th>Other Pay &amp; Adjustments</th>\n",
       "      <th>Other Pay (Payroll Explorer)</th>\n",
       "      <th>MOU</th>\n",
       "      <th>MOU Title</th>\n",
       "      <th>FMS Department</th>\n",
       "      <th>Job Class</th>\n",
       "      <th>Pay Grade</th>\n",
       "      <th>Average Health Cost</th>\n",
       "      <th>Average Dental Cost</th>\n",
       "      <th>Average Basic Life</th>\n",
       "      <th>Average Benefit Cost</th>\n",
       "      <th>Benefits Plan</th>\n",
       "      <th>Job Class Link</th>\n",
       "    </tr>\n",
       "  </thead>\n",
       "  <tbody>\n",
       "    <tr>\n",
       "      <th>0</th>\n",
       "      <td>111391</td>\n",
       "      <td>2014</td>\n",
       "      <td>Water And Power (DWP)</td>\n",
       "      <td>NaN</td>\n",
       "      <td>NaN</td>\n",
       "      <td>Commercial Service Representative</td>\n",
       "      <td>Full Time</td>\n",
       "      <td>NaN</td>\n",
       "      <td>70386.48</td>\n",
       "      <td>16129.89</td>\n",
       "      <td>17829.78</td>\n",
       "      <td>17678.24</td>\n",
       "      <td>22946.57</td>\n",
       "      <td>14273.91</td>\n",
       "      <td>23.67%</td>\n",
       "      <td>74584.48</td>\n",
       "      <td>60310.57</td>\n",
       "      <td>0.00</td>\n",
       "      <td>0.00</td>\n",
       "      <td>0.00</td>\n",
       "      <td>NaN</td>\n",
       "      <td>369.12</td>\n",
       "      <td>13904.79</td>\n",
       "      <td>13904.79</td>\n",
       "      <td>NaN</td>\n",
       "      <td>NaN</td>\n",
       "      <td>98</td>\n",
       "      <td>1230</td>\n",
       "      <td>NaN</td>\n",
       "      <td>16842.08</td>\n",
       "      <td>1282.61</td>\n",
       "      <td>0.00</td>\n",
       "      <td>18124.69</td>\n",
       "      <td>DWP</td>\n",
       "      <td>http://per.lacity.org/perspecs/1230.pdf</td>\n",
       "    </tr>\n",
       "    <tr>\n",
       "      <th>1</th>\n",
       "      <td>31732</td>\n",
       "      <td>2013</td>\n",
       "      <td>Police (LAPD)</td>\n",
       "      <td>4301.0</td>\n",
       "      <td>NaN</td>\n",
       "      <td>Police Officer I</td>\n",
       "      <td>Full Time</td>\n",
       "      <td>25.12</td>\n",
       "      <td>52450.56</td>\n",
       "      <td>11331.00</td>\n",
       "      <td>13859.93</td>\n",
       "      <td>11968.32</td>\n",
       "      <td>14048.20</td>\n",
       "      <td>1700.40</td>\n",
       "      <td>3.43%</td>\n",
       "      <td>51207.45</td>\n",
       "      <td>49507.05</td>\n",
       "      <td>1269.83</td>\n",
       "      <td>0.00</td>\n",
       "      <td>239.20</td>\n",
       "      <td>0.00</td>\n",
       "      <td>11.13</td>\n",
       "      <td>180.24</td>\n",
       "      <td>1689.27</td>\n",
       "      <td>NaN</td>\n",
       "      <td>POLICE OFFICERS UNIT</td>\n",
       "      <td>70</td>\n",
       "      <td>2214</td>\n",
       "      <td>A</td>\n",
       "      <td>11651.40</td>\n",
       "      <td>898.08</td>\n",
       "      <td>191.04</td>\n",
       "      <td>12740.52</td>\n",
       "      <td>Police</td>\n",
       "      <td>http://per.lacity.org/perspecs/2214.pdf</td>\n",
       "    </tr>\n",
       "    <tr>\n",
       "      <th>2</th>\n",
       "      <td>27697</td>\n",
       "      <td>2013</td>\n",
       "      <td>Police (LAPD)</td>\n",
       "      <td>4301.0</td>\n",
       "      <td>NaN</td>\n",
       "      <td>Police Officer II</td>\n",
       "      <td>Full Time</td>\n",
       "      <td>42.77</td>\n",
       "      <td>89303.76</td>\n",
       "      <td>20036.32</td>\n",
       "      <td>23479.20</td>\n",
       "      <td>21153.60</td>\n",
       "      <td>24360.49</td>\n",
       "      <td>4120.20</td>\n",
       "      <td>4.85%</td>\n",
       "      <td>89029.61</td>\n",
       "      <td>84909.41</td>\n",
       "      <td>1954.51</td>\n",
       "      <td>0.00</td>\n",
       "      <td>1519.00</td>\n",
       "      <td>0.00</td>\n",
       "      <td>482.29</td>\n",
       "      <td>164.40</td>\n",
       "      <td>3637.91</td>\n",
       "      <td>NaN</td>\n",
       "      <td>POLICE OFFICERS UNIT</td>\n",
       "      <td>70</td>\n",
       "      <td>2214</td>\n",
       "      <td>2</td>\n",
       "      <td>11651.40</td>\n",
       "      <td>898.08</td>\n",
       "      <td>191.04</td>\n",
       "      <td>12740.52</td>\n",
       "      <td>Police</td>\n",
       "      <td>http://per.lacity.org/perspecs/2214.pdf</td>\n",
       "    </tr>\n",
       "    <tr>\n",
       "      <th>3</th>\n",
       "      <td>14136</td>\n",
       "      <td>2013</td>\n",
       "      <td>Harbor (Port of LA)</td>\n",
       "      <td>3201.0</td>\n",
       "      <td>NaN</td>\n",
       "      <td>Senior Security Officer</td>\n",
       "      <td>Full Time</td>\n",
       "      <td>28.75</td>\n",
       "      <td>60028.96</td>\n",
       "      <td>15793.88</td>\n",
       "      <td>18560.38</td>\n",
       "      <td>16471.18</td>\n",
       "      <td>21110.80</td>\n",
       "      <td>14275.44</td>\n",
       "      <td>24.76%</td>\n",
       "      <td>71936.24</td>\n",
       "      <td>57660.80</td>\n",
       "      <td>0.00</td>\n",
       "      <td>1585.72</td>\n",
       "      <td>935.00</td>\n",
       "      <td>0.00</td>\n",
       "      <td>11504.72</td>\n",
       "      <td>250.00</td>\n",
       "      <td>2770.72</td>\n",
       "      <td>NaN</td>\n",
       "      <td>SUPV BLUE COLLAR</td>\n",
       "      <td>42</td>\n",
       "      <td>3184</td>\n",
       "      <td>0</td>\n",
       "      <td>10710.24</td>\n",
       "      <td>405.24</td>\n",
       "      <td>11.40</td>\n",
       "      <td>11126.88</td>\n",
       "      <td>City</td>\n",
       "      <td>http://per.lacity.org/perspecs/3184.pdf</td>\n",
       "    </tr>\n",
       "    <tr>\n",
       "      <th>4</th>\n",
       "      <td>91896</td>\n",
       "      <td>2014</td>\n",
       "      <td>Public Works - Sanitation</td>\n",
       "      <td>7024.0</td>\n",
       "      <td>NaN</td>\n",
       "      <td>Senior Clerk Typist</td>\n",
       "      <td>Full Time</td>\n",
       "      <td>30.92</td>\n",
       "      <td>64553.13</td>\n",
       "      <td>14700.00</td>\n",
       "      <td>17313.10</td>\n",
       "      <td>15257.17</td>\n",
       "      <td>17313.10</td>\n",
       "      <td>5191.62</td>\n",
       "      <td>8.74%</td>\n",
       "      <td>64583.37</td>\n",
       "      <td>59391.75</td>\n",
       "      <td>0.00</td>\n",
       "      <td>4774.25</td>\n",
       "      <td>0.00</td>\n",
       "      <td>0.00</td>\n",
       "      <td>417.37</td>\n",
       "      <td>0.00</td>\n",
       "      <td>4774.25</td>\n",
       "      <td>NaN</td>\n",
       "      <td>CLERICAL UNIT</td>\n",
       "      <td>82</td>\n",
       "      <td>1368</td>\n",
       "      <td>0</td>\n",
       "      <td>11000.40</td>\n",
       "      <td>409.68</td>\n",
       "      <td>11.40</td>\n",
       "      <td>11421.48</td>\n",
       "      <td>City</td>\n",
       "      <td>http://per.lacity.org/perspecs/1368.pdf</td>\n",
       "    </tr>\n",
       "  </tbody>\n",
       "</table>\n",
       "</div>"
      ],
      "text/plain": [
       "   Row ID  Year           Department Title  Payroll Department Record Number  \\\n",
       "0  111391  2014      Water And Power (DWP)                 NaN           NaN   \n",
       "1   31732  2013              Police (LAPD)              4301.0           NaN   \n",
       "2   27697  2013              Police (LAPD)              4301.0           NaN   \n",
       "3   14136  2013        Harbor (Port of LA)              3201.0           NaN   \n",
       "4   91896  2014  Public Works - Sanitation              7024.0           NaN   \n",
       "\n",
       "                     Job Class Title Employment Type Hourly or Event Rate  \\\n",
       "0  Commercial Service Representative       Full Time                  NaN   \n",
       "1                   Police Officer I       Full Time                25.12   \n",
       "2                  Police Officer II       Full Time                42.77   \n",
       "3            Senior Security Officer       Full Time                28.75   \n",
       "4                Senior Clerk Typist       Full Time                30.92   \n",
       "\n",
       "  Projected Annual Salary Q1 Payments Q2 Payments Q3 Payments Q4 Payments  \\\n",
       "0                70386.48    16129.89    17829.78    17678.24    22946.57   \n",
       "1                52450.56    11331.00    13859.93    11968.32    14048.20   \n",
       "2                89303.76    20036.32    23479.20    21153.60    24360.49   \n",
       "3                60028.96    15793.88    18560.38    16471.18    21110.80   \n",
       "4                64553.13    14700.00    17313.10    15257.17    17313.10   \n",
       "\n",
       "  Payments Over Base Pay % Over Base Pay Total Payments  Base Pay  \\\n",
       "0               14273.91          23.67%       74584.48  60310.57   \n",
       "1                1700.40           3.43%       51207.45  49507.05   \n",
       "2                4120.20           4.85%       89029.61  84909.41   \n",
       "3               14275.44          24.76%       71936.24  57660.80   \n",
       "4                5191.62           8.74%       64583.37  59391.75   \n",
       "\n",
       "  Permanent Bonus Pay Longevity Bonus Pay Temporary Bonus Pay Lump Sum Pay  \\\n",
       "0                0.00                0.00                0.00          NaN   \n",
       "1             1269.83                0.00              239.20         0.00   \n",
       "2             1954.51                0.00             1519.00         0.00   \n",
       "3                0.00             1585.72              935.00         0.00   \n",
       "4                0.00             4774.25                0.00         0.00   \n",
       "\n",
       "  Overtime Pay Other Pay & Adjustments Other Pay (Payroll Explorer)  MOU  \\\n",
       "0       369.12                13904.79                     13904.79  NaN   \n",
       "1        11.13                  180.24                      1689.27  NaN   \n",
       "2       482.29                  164.40                      3637.91  NaN   \n",
       "3     11504.72                  250.00                      2770.72  NaN   \n",
       "4       417.37                    0.00                      4774.25  NaN   \n",
       "\n",
       "              MOU Title  FMS Department  Job Class Pay Grade  \\\n",
       "0                   NaN              98       1230       NaN   \n",
       "1  POLICE OFFICERS UNIT              70       2214         A   \n",
       "2  POLICE OFFICERS UNIT              70       2214         2   \n",
       "3      SUPV BLUE COLLAR              42       3184         0   \n",
       "4         CLERICAL UNIT              82       1368         0   \n",
       "\n",
       "  Average Health Cost Average Dental Cost Average Basic Life  \\\n",
       "0            16842.08             1282.61               0.00   \n",
       "1            11651.40              898.08             191.04   \n",
       "2            11651.40              898.08             191.04   \n",
       "3            10710.24              405.24              11.40   \n",
       "4            11000.40              409.68              11.40   \n",
       "\n",
       "  Average Benefit Cost Benefits Plan                           Job Class Link  \n",
       "0             18124.69           DWP  http://per.lacity.org/perspecs/1230.pdf  \n",
       "1             12740.52        Police  http://per.lacity.org/perspecs/2214.pdf  \n",
       "2             12740.52        Police  http://per.lacity.org/perspecs/2214.pdf  \n",
       "3             11126.88          City  http://per.lacity.org/perspecs/3184.pdf  \n",
       "4             11421.48          City  http://per.lacity.org/perspecs/1368.pdf  "
      ]
     },
     "execution_count": 12,
     "metadata": {},
     "output_type": "execute_result"
    }
   ],
   "source": [
    "for item in df_data.columns[df_data.dtypes=='object']:\n",
    "    df_data[item]=df_data[item].str.replace('$','')\n",
    "\n",
    "    #Note df_data.replace('$','',inplace=True) wont work because it need to match the string exactly to replace,partial match of $ doesn't count as exact match and won't work\n",
    "    #https://stackoverflow.com/questions/28986489/how-to-replace-text-in-a-string-column-of-a-pandas-dataframe\n",
    "df_data.head()"
   ]
  },
  {
   "cell_type": "markdown",
   "id": "05baf3c6",
   "metadata": {
    "papermill": {
     "duration": 0.012983,
     "end_time": "2024-04-22T21:20:33.600806",
     "exception": false,
     "start_time": "2024-04-22T21:20:33.587823",
     "status": "completed"
    },
    "tags": []
   },
   "source": [
    "We will only use the annual salary data and base pay this time and converting it to float dtypes"
   ]
  },
  {
   "cell_type": "code",
   "execution_count": 13,
   "id": "8d9d9ad3",
   "metadata": {
    "execution": {
     "iopub.execute_input": "2024-04-22T21:20:33.629091Z",
     "iopub.status.busy": "2024-04-22T21:20:33.628669Z",
     "iopub.status.idle": "2024-04-22T21:20:33.977342Z",
     "shell.execute_reply": "2024-04-22T21:20:33.975981Z"
    },
    "papermill": {
     "duration": 0.365998,
     "end_time": "2024-04-22T21:20:33.980055",
     "exception": false,
     "start_time": "2024-04-22T21:20:33.614057",
     "status": "completed"
    },
    "tags": []
   },
   "outputs": [],
   "source": [
    "df_data['Projected Annual Salary']=df_data['Projected Annual Salary'].astype('float')\n",
    "df_data['Base Pay']=df_data['Base Pay'].astype('float')\n",
    "df_data['Q1 Payments']=df_data['Q1 Payments'].astype('float')\n",
    "df_data['Q2 Payments']=df_data['Q2 Payments'].astype('float')\n",
    "df_data['Q3 Payments']=df_data['Q3 Payments'].astype('float')\n",
    "df_data['Q4 Payments']=df_data['Q4 Payments'].astype('float')"
   ]
  },
  {
   "cell_type": "code",
   "execution_count": 14,
   "id": "f2cf2af1",
   "metadata": {
    "execution": {
     "iopub.execute_input": "2024-04-22T21:20:34.009350Z",
     "iopub.status.busy": "2024-04-22T21:20:34.008914Z",
     "iopub.status.idle": "2024-04-22T21:20:34.204027Z",
     "shell.execute_reply": "2024-04-22T21:20:34.202912Z"
    },
    "papermill": {
     "duration": 0.212535,
     "end_time": "2024-04-22T21:20:34.206652",
     "exception": false,
     "start_time": "2024-04-22T21:20:33.994117",
     "status": "completed"
    },
    "tags": []
   },
   "outputs": [
    {
     "name": "stdout",
     "output_type": "stream",
     "text": [
      "(285008, 35)\n",
      "Index(['Row ID', 'Year', 'Department Title', 'Payroll Department',\n",
      "       'Record Number', 'Job Class Title', 'Employment Type',\n",
      "       'Hourly or Event Rate', 'Projected Annual Salary', 'Q1 Payments',\n",
      "       'Q2 Payments', 'Q3 Payments', 'Q4 Payments', 'Payments Over Base Pay',\n",
      "       '% Over Base Pay', 'Total Payments', 'Base Pay', 'Permanent Bonus Pay',\n",
      "       'Longevity Bonus Pay', 'Temporary Bonus Pay', 'Lump Sum Pay',\n",
      "       'Overtime Pay', 'Other Pay & Adjustments',\n",
      "       'Other Pay (Payroll Explorer)', 'MOU', 'MOU Title', 'FMS Department',\n",
      "       'Job Class', 'Pay Grade', 'Average Health Cost', 'Average Dental Cost',\n",
      "       'Average Basic Life', 'Average Benefit Cost', 'Benefits Plan',\n",
      "       'Job Class Link'],\n",
      "      dtype='object')\n"
     ]
    },
    {
     "data": {
      "text/html": [
       "<div>\n",
       "<style scoped>\n",
       "    .dataframe tbody tr th:only-of-type {\n",
       "        vertical-align: middle;\n",
       "    }\n",
       "\n",
       "    .dataframe tbody tr th {\n",
       "        vertical-align: top;\n",
       "    }\n",
       "\n",
       "    .dataframe thead th {\n",
       "        text-align: right;\n",
       "    }\n",
       "</style>\n",
       "<table border=\"1\" class=\"dataframe\">\n",
       "  <thead>\n",
       "    <tr style=\"text-align: right;\">\n",
       "      <th></th>\n",
       "      <th>Row ID</th>\n",
       "      <th>Year</th>\n",
       "      <th>Payroll Department</th>\n",
       "      <th>Projected Annual Salary</th>\n",
       "      <th>Q1 Payments</th>\n",
       "      <th>Q2 Payments</th>\n",
       "      <th>Q3 Payments</th>\n",
       "      <th>Q4 Payments</th>\n",
       "      <th>Base Pay</th>\n",
       "      <th>FMS Department</th>\n",
       "      <th>Job Class</th>\n",
       "    </tr>\n",
       "  </thead>\n",
       "  <tbody>\n",
       "    <tr>\n",
       "      <th>count</th>\n",
       "      <td>285008.000000</td>\n",
       "      <td>285008.000000</td>\n",
       "      <td>231463.000000</td>\n",
       "      <td>285008.000000</td>\n",
       "      <td>285008.000000</td>\n",
       "      <td>285008.000000</td>\n",
       "      <td>285008.000000</td>\n",
       "      <td>285008.000000</td>\n",
       "      <td>285008.000000</td>\n",
       "      <td>285008.000000</td>\n",
       "      <td>285008.000000</td>\n",
       "    </tr>\n",
       "    <tr>\n",
       "      <th>mean</th>\n",
       "      <td>142544.329759</td>\n",
       "      <td>2014.786701</td>\n",
       "      <td>4557.472067</td>\n",
       "      <td>79988.907774</td>\n",
       "      <td>21169.158377</td>\n",
       "      <td>16965.394664</td>\n",
       "      <td>12309.946189</td>\n",
       "      <td>12570.132810</td>\n",
       "      <td>51639.946289</td>\n",
       "      <td>66.271340</td>\n",
       "      <td>3051.039967</td>\n",
       "    </tr>\n",
       "    <tr>\n",
       "      <th>std</th>\n",
       "      <td>82330.135857</td>\n",
       "      <td>1.161369</td>\n",
       "      <td>2508.764234</td>\n",
       "      <td>33464.231936</td>\n",
       "      <td>14131.042801</td>\n",
       "      <td>14912.208981</td>\n",
       "      <td>14431.228494</td>\n",
       "      <td>14795.702948</td>\n",
       "      <td>37989.128767</td>\n",
       "      <td>29.304236</td>\n",
       "      <td>2038.694130</td>\n",
       "    </tr>\n",
       "    <tr>\n",
       "      <th>min</th>\n",
       "      <td>1.000000</td>\n",
       "      <td>2013.000000</td>\n",
       "      <td>101.000000</td>\n",
       "      <td>0.000000</td>\n",
       "      <td>-2254.580000</td>\n",
       "      <td>-12607.850000</td>\n",
       "      <td>-34122.580000</td>\n",
       "      <td>-30728.270000</td>\n",
       "      <td>-3838.380000</td>\n",
       "      <td>2.000000</td>\n",
       "      <td>1.000000</td>\n",
       "    </tr>\n",
       "    <tr>\n",
       "      <th>25%</th>\n",
       "      <td>71252.750000</td>\n",
       "      <td>2014.000000</td>\n",
       "      <td>3001.000000</td>\n",
       "      <td>56732.530000</td>\n",
       "      <td>12371.982500</td>\n",
       "      <td>192.470000</td>\n",
       "      <td>0.000000</td>\n",
       "      <td>0.000000</td>\n",
       "      <td>19713.340000</td>\n",
       "      <td>42.000000</td>\n",
       "      <td>1960.000000</td>\n",
       "    </tr>\n",
       "    <tr>\n",
       "      <th>50%</th>\n",
       "      <td>142504.500000</td>\n",
       "      <td>2015.000000</td>\n",
       "      <td>4301.000000</td>\n",
       "      <td>78945.040000</td>\n",
       "      <td>21356.780000</td>\n",
       "      <td>17684.225000</td>\n",
       "      <td>4469.455000</td>\n",
       "      <td>3992.800000</td>\n",
       "      <td>46390.800000</td>\n",
       "      <td>70.000000</td>\n",
       "      <td>2234.000000</td>\n",
       "    </tr>\n",
       "    <tr>\n",
       "      <th>75%</th>\n",
       "      <td>213756.250000</td>\n",
       "      <td>2016.000000</td>\n",
       "      <td>7031.000000</td>\n",
       "      <td>99813.710000</td>\n",
       "      <td>28903.087500</td>\n",
       "      <td>27031.410000</td>\n",
       "      <td>23324.545000</td>\n",
       "      <td>24157.200000</td>\n",
       "      <td>83086.400000</td>\n",
       "      <td>88.000000</td>\n",
       "      <td>3580.000000</td>\n",
       "    </tr>\n",
       "    <tr>\n",
       "      <th>max</th>\n",
       "      <td>285208.000000</td>\n",
       "      <td>2016.000000</td>\n",
       "      <td>8702.000000</td>\n",
       "      <td>360743.760000</td>\n",
       "      <td>262966.090000</td>\n",
       "      <td>191435.350000</td>\n",
       "      <td>291317.360000</td>\n",
       "      <td>500930.740000</td>\n",
       "      <td>359361.600000</td>\n",
       "      <td>98.000000</td>\n",
       "      <td>9998.000000</td>\n",
       "    </tr>\n",
       "  </tbody>\n",
       "</table>\n",
       "</div>"
      ],
      "text/plain": [
       "              Row ID           Year  Payroll Department  \\\n",
       "count  285008.000000  285008.000000       231463.000000   \n",
       "mean   142544.329759    2014.786701         4557.472067   \n",
       "std     82330.135857       1.161369         2508.764234   \n",
       "min         1.000000    2013.000000          101.000000   \n",
       "25%     71252.750000    2014.000000         3001.000000   \n",
       "50%    142504.500000    2015.000000         4301.000000   \n",
       "75%    213756.250000    2016.000000         7031.000000   \n",
       "max    285208.000000    2016.000000         8702.000000   \n",
       "\n",
       "       Projected Annual Salary    Q1 Payments    Q2 Payments    Q3 Payments  \\\n",
       "count            285008.000000  285008.000000  285008.000000  285008.000000   \n",
       "mean              79988.907774   21169.158377   16965.394664   12309.946189   \n",
       "std               33464.231936   14131.042801   14912.208981   14431.228494   \n",
       "min                   0.000000   -2254.580000  -12607.850000  -34122.580000   \n",
       "25%               56732.530000   12371.982500     192.470000       0.000000   \n",
       "50%               78945.040000   21356.780000   17684.225000    4469.455000   \n",
       "75%               99813.710000   28903.087500   27031.410000   23324.545000   \n",
       "max              360743.760000  262966.090000  191435.350000  291317.360000   \n",
       "\n",
       "         Q4 Payments       Base Pay  FMS Department      Job Class  \n",
       "count  285008.000000  285008.000000   285008.000000  285008.000000  \n",
       "mean    12570.132810   51639.946289       66.271340    3051.039967  \n",
       "std     14795.702948   37989.128767       29.304236    2038.694130  \n",
       "min    -30728.270000   -3838.380000        2.000000       1.000000  \n",
       "25%         0.000000   19713.340000       42.000000    1960.000000  \n",
       "50%      3992.800000   46390.800000       70.000000    2234.000000  \n",
       "75%     24157.200000   83086.400000       88.000000    3580.000000  \n",
       "max    500930.740000  359361.600000       98.000000    9998.000000  "
      ]
     },
     "execution_count": 14,
     "metadata": {},
     "output_type": "execute_result"
    }
   ],
   "source": [
    "print(df_data.shape)\n",
    "print(df_data.columns)\n",
    "df_data.describe()"
   ]
  },
  {
   "cell_type": "code",
   "execution_count": 15,
   "id": "e9b07592",
   "metadata": {
    "execution": {
     "iopub.execute_input": "2024-04-22T21:20:34.235932Z",
     "iopub.status.busy": "2024-04-22T21:20:34.235500Z",
     "iopub.status.idle": "2024-04-22T21:20:34.247923Z",
     "shell.execute_reply": "2024-04-22T21:20:34.246655Z"
    },
    "papermill": {
     "duration": 0.030234,
     "end_time": "2024-04-22T21:20:34.250606",
     "exception": false,
     "start_time": "2024-04-22T21:20:34.220372",
     "status": "completed"
    },
    "tags": []
   },
   "outputs": [
    {
     "data": {
      "text/plain": [
       "array([2014, 2013, 2016, 2015])"
      ]
     },
     "execution_count": 15,
     "metadata": {},
     "output_type": "execute_result"
    }
   ],
   "source": [
    "df_data['Year'].unique()"
   ]
  },
  {
   "cell_type": "code",
   "execution_count": 16,
   "id": "69c57114",
   "metadata": {
    "execution": {
     "iopub.execute_input": "2024-04-22T21:20:34.280916Z",
     "iopub.status.busy": "2024-04-22T21:20:34.280043Z",
     "iopub.status.idle": "2024-04-22T21:20:34.465245Z",
     "shell.execute_reply": "2024-04-22T21:20:34.464055Z"
    },
    "papermill": {
     "duration": 0.203204,
     "end_time": "2024-04-22T21:20:34.468003",
     "exception": false,
     "start_time": "2024-04-22T21:20:34.264799",
     "status": "completed"
    },
    "tags": []
   },
   "outputs": [],
   "source": [
    "df_2014=df_data[df_data['Year']==2014][['Year','Projected Annual Salary','Base Pay']]\n",
    "df_2015=df_data[df_data['Year']==2015][['Year','Projected Annual Salary','Base Pay']]\n",
    "df_2016=df_data[df_data['Year']==2016][['Year','Projected Annual Salary','Base Pay']]"
   ]
  },
  {
   "cell_type": "markdown",
   "id": "a21b1025",
   "metadata": {
    "papermill": {
     "duration": 0.013448,
     "end_time": "2024-04-22T21:20:34.495355",
     "exception": false,
     "start_time": "2024-04-22T21:20:34.481907",
     "status": "completed"
    },
    "tags": []
   },
   "source": [
    "# Understand data variance and distribution"
   ]
  },
  {
   "cell_type": "code",
   "execution_count": 17,
   "id": "d5944928",
   "metadata": {
    "execution": {
     "iopub.execute_input": "2024-04-22T21:20:34.524987Z",
     "iopub.status.busy": "2024-04-22T21:20:34.524189Z",
     "iopub.status.idle": "2024-04-22T21:20:34.534160Z",
     "shell.execute_reply": "2024-04-22T21:20:34.533095Z"
    },
    "papermill": {
     "duration": 0.027386,
     "end_time": "2024-04-22T21:20:34.536511",
     "exception": false,
     "start_time": "2024-04-22T21:20:34.509125",
     "status": "completed"
    },
    "tags": []
   },
   "outputs": [
    {
     "data": {
      "text/plain": [
       "1.0552695968298238"
      ]
     },
     "execution_count": 17,
     "metadata": {},
     "output_type": "execute_result"
    }
   ],
   "source": [
    "np.var(df_2015['Projected Annual Salary'])/np.var(df_2016['Projected Annual Salary'])"
   ]
  },
  {
   "cell_type": "markdown",
   "id": "2fdd3405",
   "metadata": {
    "papermill": {
     "duration": 0.013866,
     "end_time": "2024-04-22T21:20:34.564179",
     "exception": false,
     "start_time": "2024-04-22T21:20:34.550313",
     "status": "completed"
    },
    "tags": []
   },
   "source": [
    "The ratio is less than 4:1 we can assue they are equal to each other"
   ]
  },
  {
   "cell_type": "code",
   "execution_count": 18,
   "id": "1c9b848e",
   "metadata": {
    "execution": {
     "iopub.execute_input": "2024-04-22T21:20:34.594213Z",
     "iopub.status.busy": "2024-04-22T21:20:34.593552Z",
     "iopub.status.idle": "2024-04-22T21:20:36.987257Z",
     "shell.execute_reply": "2024-04-22T21:20:36.986185Z"
    },
    "papermill": {
     "duration": 2.411528,
     "end_time": "2024-04-22T21:20:36.989706",
     "exception": false,
     "start_time": "2024-04-22T21:20:34.578178",
     "status": "completed"
    },
    "tags": []
   },
   "outputs": [
    {
     "data": {
      "text/plain": [
       "[Text(-50000.0, 0, '−50000'),\n",
       " Text(0.0, 0, '0'),\n",
       " Text(50000.0, 0, '50000'),\n",
       " Text(100000.0, 0, '100000'),\n",
       " Text(150000.0, 0, '150000'),\n",
       " Text(200000.0, 0, '200000'),\n",
       " Text(250000.0, 0, '250000'),\n",
       " Text(300000.0, 0, '300000'),\n",
       " Text(350000.0, 0, '350000'),\n",
       " Text(400000.0, 0, '400000')]"
      ]
     },
     "execution_count": 18,
     "metadata": {},
     "output_type": "execute_result"
    },
    {
     "data": {
      "image/png": "[encoded data removed]",
      "text/plain": [
       "<Figure size 640x480 with 1 Axes>"
      ]
     },
     "metadata": {},
     "output_type": "display_data"
    }
   ],
   "source": [
    "import seaborn as sns\n",
    "import matplotlib.pyplot as plt \n",
    "#fig,axs=plt.subplots(nrows=1,ncols=2,figsize=(10,3))\n",
    "my_plt=sns.histplot(data=df_2015,x='Projected Annual Salary',bins=100,label='2015',color='g')\n",
    "my_plt=sns.histplot(data=df_2016,x='Projected Annual Salary',bins=100,label='2016',color='y')\n",
    "my_plt.legend()\n",
    "my_plt.set_xticklabels(my_plt.get_xticklabels(), rotation=30)"
   ]
  },
  {
   "cell_type": "markdown",
   "id": "23ae6c95",
   "metadata": {
    "papermill": {
     "duration": 0.01468,
     "end_time": "2024-04-22T21:20:37.019565",
     "exception": false,
     "start_time": "2024-04-22T21:20:37.004885",
     "status": "completed"
    },
    "tags": []
   },
   "source": [
    "# Two-tail test:\n",
    "\n",
    "Null Hypothesis: 2015 average annual salary=2016 annual salary\n",
    "\n",
    "Alternative: 2015 average annual salary!=2016 annual salary"
   ]
  },
  {
   "cell_type": "markdown",
   "id": "0b6852f5",
   "metadata": {
    "papermill": {
     "duration": 0.014646,
     "end_time": "2024-04-22T21:20:37.049143",
     "exception": false,
     "start_time": "2024-04-22T21:20:37.034497",
     "status": "completed"
    },
    "tags": []
   },
   "source": [
    "https://www.geeksforgeeks.org/how-to-conduct-a-two-sample-t-test-in-python/"
   ]
  },
  {
   "cell_type": "code",
   "execution_count": 19,
   "id": "eeb4d6f9",
   "metadata": {
    "execution": {
     "iopub.execute_input": "2024-04-22T21:20:37.082466Z",
     "iopub.status.busy": "2024-04-22T21:20:37.081813Z",
     "iopub.status.idle": "2024-04-22T21:20:37.095804Z",
     "shell.execute_reply": "2024-04-22T21:20:37.094560Z"
    },
    "papermill": {
     "duration": 0.033575,
     "end_time": "2024-04-22T21:20:37.098513",
     "exception": false,
     "start_time": "2024-04-22T21:20:37.064938",
     "status": "completed"
    },
    "tags": []
   },
   "outputs": [
    {
     "data": {
      "text/plain": [
       "TtestResult(statistic=-13.304975548078414, pvalue=2.2684603591497205e-40, df=170679.0)"
      ]
     },
     "execution_count": 19,
     "metadata": {},
     "output_type": "execute_result"
    }
   ],
   "source": [
    "import scipy.stats as stats\n",
    "stats.ttest_ind(a = df_2015['Projected Annual Salary'], b=df_2016['Projected Annual Salary'],equal_var=True)"
   ]
  },
  {
   "cell_type": "code",
   "execution_count": 20,
   "id": "14e90a7d",
   "metadata": {
    "execution": {
     "iopub.execute_input": "2024-04-22T21:20:37.131545Z",
     "iopub.status.busy": "2024-04-22T21:20:37.130970Z",
     "iopub.status.idle": "2024-04-22T21:20:37.139313Z",
     "shell.execute_reply": "2024-04-22T21:20:37.138034Z"
    },
    "papermill": {
     "duration": 0.027372,
     "end_time": "2024-04-22T21:20:37.141761",
     "exception": false,
     "start_time": "2024-04-22T21:20:37.114389",
     "status": "completed"
    },
    "tags": []
   },
   "outputs": [
    {
     "data": {
      "text/plain": [
       "0.005074212804042167"
      ]
     },
     "execution_count": 20,
     "metadata": {},
     "output_type": "execute_result"
    }
   ],
   "source": [
    "import math\n",
    "math.sqrt(1/df_2015.shape[0]+1/df_2016.shape[0])"
   ]
  },
  {
   "cell_type": "markdown",
   "id": "ad023ebb",
   "metadata": {
    "papermill": {
     "duration": 0.014652,
     "end_time": "2024-04-22T21:20:37.171934",
     "exception": false,
     "start_time": "2024-04-22T21:20:37.157282",
     "status": "completed"
    },
    "tags": []
   },
   "source": [
    "since p value is smaller than 0.05, we can reject H0 and conclude that 2015 average annual salary is different from 2016 average salary"
   ]
  },
  {
   "cell_type": "code",
   "execution_count": 21,
   "id": "8d02148f",
   "metadata": {
    "execution": {
     "iopub.execute_input": "2024-04-22T21:20:37.203792Z",
     "iopub.status.busy": "2024-04-22T21:20:37.203405Z",
     "iopub.status.idle": "2024-04-22T21:20:54.025429Z",
     "shell.execute_reply": "2024-04-22T21:20:54.024280Z"
    },
    "papermill": {
     "duration": 16.841339,
     "end_time": "2024-04-22T21:20:54.028350",
     "exception": false,
     "start_time": "2024-04-22T21:20:37.187011",
     "status": "completed"
    },
    "tags": []
   },
   "outputs": [
    {
     "name": "stdout",
     "output_type": "stream",
     "text": [
      "Collecting pingouin\n",
      "  Downloading pingouin-0.5.5-py3-none-any.whl.metadata (19 kB)\n",
      "Requirement already satisfied: matplotlib in /opt/anaconda3/lib/python3.11/site-packages (from pingouin) (3.8.0)\n",
      "Requirement already satisfied: numpy in /opt/anaconda3/lib/python3.11/site-packages (from pingouin) (1.26.4)\n",
      "Requirement already satisfied: pandas>=1.5 in /opt/anaconda3/lib/python3.11/site-packages (from pingouin) (2.2.2)\n",
      "Collecting pandas-flavor (from pingouin)\n",
      "  Downloading pandas_flavor-0.7.0-py3-none-any.whl.metadata (6.7 kB)\n",
      "Requirement already satisfied: scikit-learn>=1.2 in /opt/anaconda3/lib/python3.11/site-packages (from pingouin) (1.2.2)\n",
      "Requirement already satisfied: scipy in /opt/anaconda3/lib/python3.11/site-packages (from pingouin) (1.11.4)\n",
      "Requirement already satisfied: seaborn in /opt/anaconda3/lib/python3.11/site-packages (from pingouin) (0.12.2)\n",
      "Requirement already satisfied: statsmodels in /opt/anaconda3/lib/python3.11/site-packages (from pingouin) (0.14.0)\n",
      "Requirement already satisfied: tabulate in /opt/anaconda3/lib/python3.11/site-packages (from pingouin) (0.9.0)\n",
      "Requirement already satisfied: python-dateutil>=2.8.2 in /opt/anaconda3/lib/python3.11/site-packages (from pandas>=1.5->pingouin) (2.8.2)\n",
      "Requirement already satisfied: pytz>=2020.1 in /opt/anaconda3/lib/python3.11/site-packages (from pandas>=1.5->pingouin) (2024.2)\n",
      "Requirement already satisfied: tzdata>=2022.7 in /opt/anaconda3/lib/python3.11/site-packages (from pandas>=1.5->pingouin) (2023.3)\n",
      "Requirement already satisfied: joblib>=1.1.1 in /opt/anaconda3/lib/python3.11/site-packages (from scikit-learn>=1.2->pingouin) (1.2.0)\n",
      "Requirement already satisfied: threadpoolctl>=2.0.0 in /opt/anaconda3/lib/python3.11/site-packages (from scikit-learn>=1.2->pingouin) (2.2.0)\n",
      "Requirement already satisfied: contourpy>=1.0.1 in /opt/anaconda3/lib/python3.11/site-packages (from matplotlib->pingouin) (1.2.0)\n",
      "Requirement already satisfied: cycler>=0.10 in /opt/anaconda3/lib/python3.11/site-packages (from matplotlib->pingouin) (0.11.0)\n",
      "Requirement already satisfied: fonttools>=4.22.0 in /opt/anaconda3/lib/python3.11/site-packages (from matplotlib->pingouin) (4.25.0)\n",
      "Requirement already satisfied: kiwisolver>=1.0.1 in /opt/anaconda3/lib/python3.11/site-packages (from matplotlib->pingouin) (1.4.4)\n",
      "Requirement already satisfied: packaging>=20.0 in /opt/anaconda3/lib/python3.11/site-packages (from matplotlib->pingouin) (23.2)\n",
      "Requirement already satisfied: pillow>=6.2.0 in /opt/anaconda3/lib/python3.11/site-packages (from matplotlib->pingouin) (10.2.0)\n",
      "Requirement already satisfied: pyparsing>=2.3.1 in /opt/anaconda3/lib/python3.11/site-packages (from matplotlib->pingouin) (3.0.9)\n",
      "Requirement already satisfied: xarray in /opt/anaconda3/lib/python3.11/site-packages (from pandas-flavor->pingouin) (2023.6.0)\n",
      "Requirement already satisfied: patsy>=0.5.2 in /opt/anaconda3/lib/python3.11/site-packages (from statsmodels->pingouin) (0.5.3)\n",
      "Requirement already satisfied: six in /opt/anaconda3/lib/python3.11/site-packages (from patsy>=0.5.2->statsmodels->pingouin) (1.16.0)\n",
      "Downloading pingouin-0.5.5-py3-none-any.whl (204 kB)\n",
      "Downloading pandas_flavor-0.7.0-py3-none-any.whl (8.4 kB)\n",
      "Installing collected packages: pandas-flavor, pingouin\n",
      "Successfully installed pandas-flavor-0.7.0 pingouin-0.5.5\n",
      "\n",
      "\u001b[1m[\u001b[0m\u001b[34;49mnotice\u001b[0m\u001b[1;39;49m]\u001b[0m\u001b[39;49m A new release of pip is available: \u001b[0m\u001b[31;49m24.3.1\u001b[0m\u001b[39;49m -> \u001b[0m\u001b[32;49m25.0.1\u001b[0m\n",
      "\u001b[1m[\u001b[0m\u001b[34;49mnotice\u001b[0m\u001b[1;39;49m]\u001b[0m\u001b[39;49m To update, run: \u001b[0m\u001b[32;49mpip install --upgrade pip\u001b[0m\n"
     ]
    }
   ],
   "source": [
    "!pip install pingouin"
   ]
  },
  {
   "cell_type": "code",
   "execution_count": 22,
   "id": "9fa950b9",
   "metadata": {
    "execution": {
     "iopub.execute_input": "2024-04-22T21:20:54.064655Z",
     "iopub.status.busy": "2024-04-22T21:20:54.064205Z",
     "iopub.status.idle": "2024-04-22T21:20:54.322970Z",
     "shell.execute_reply": "2024-04-22T21:20:54.321791Z"
    },
    "papermill": {
     "duration": 0.280311,
     "end_time": "2024-04-22T21:20:54.325487",
     "exception": false,
     "start_time": "2024-04-22T21:20:54.045176",
     "status": "completed"
    },
    "tags": []
   },
   "outputs": [
    {
     "data": {
      "text/html": [
       "<div>\n",
       "<style scoped>\n",
       "    .dataframe tbody tr th:only-of-type {\n",
       "        vertical-align: middle;\n",
       "    }\n",
       "\n",
       "    .dataframe tbody tr th {\n",
       "        vertical-align: top;\n",
       "    }\n",
       "\n",
       "    .dataframe thead th {\n",
       "        text-align: right;\n",
       "    }\n",
       "</style>\n",
       "<table border=\"1\" class=\"dataframe\">\n",
       "  <thead>\n",
       "    <tr style=\"text-align: right;\">\n",
       "      <th></th>\n",
       "      <th>T</th>\n",
       "      <th>dof</th>\n",
       "      <th>alternative</th>\n",
       "      <th>p-val</th>\n",
       "      <th>CI95%</th>\n",
       "      <th>cohen-d</th>\n",
       "      <th>BF10</th>\n",
       "      <th>power</th>\n",
       "    </tr>\n",
       "  </thead>\n",
       "  <tbody>\n",
       "    <tr>\n",
       "      <th>T-test</th>\n",
       "      <td>-13.19817</td>\n",
       "      <td>119584.521675</td>\n",
       "      <td>two-sided</td>\n",
       "      <td>9.584232e-40</td>\n",
       "      <td>[-2608.57, -1933.98]</td>\n",
       "      <td>0.067512</td>\n",
       "      <td>3.632e+35</td>\n",
       "      <td>1.0</td>\n",
       "    </tr>\n",
       "  </tbody>\n",
       "</table>\n",
       "</div>"
      ],
      "text/plain": [
       "               T            dof alternative         p-val  \\\n",
       "T-test -13.19817  119584.521675   two-sided  9.584232e-40   \n",
       "\n",
       "                       CI95%   cohen-d       BF10  power  \n",
       "T-test  [-2608.57, -1933.98]  0.067512  3.632e+35    1.0  "
      ]
     },
     "execution_count": 22,
     "metadata": {},
     "output_type": "execute_result"
    }
   ],
   "source": [
    "import pingouin as pg\n",
    "\n",
    "pg.ttest(df_2015['Projected Annual Salary'], df_2016['Projected Annual Salary'],correction=True)\n",
    "\n",
    "#Here we have the same conclusion as above and the 2015 mean is not the same as 2016 mean"
   ]
  },
  {
   "cell_type": "markdown",
   "id": "b3988c7a",
   "metadata": {
    "papermill": {
     "duration": 0.016507,
     "end_time": "2024-04-22T21:20:54.358895",
     "exception": false,
     "start_time": "2024-04-22T21:20:54.342388",
     "status": "completed"
    },
    "tags": []
   },
   "source": [
    "# One tail test: \n",
    "\n",
    "Hypothesis Test: 2015 average annual income = 2016 average annual income\n",
    "\n",
    "Alternative: 2015 average annual income<2016 average annual income\n",
    "\n",
    "https://analystprep.com/cfa-level-1-exam/quantitative-methods/t-test-z-test/"
   ]
  },
  {
   "cell_type": "code",
   "execution_count": 23,
   "id": "3289205a",
   "metadata": {
    "execution": {
     "iopub.execute_input": "2024-04-22T21:20:54.394849Z",
     "iopub.status.busy": "2024-04-22T21:20:54.394038Z",
     "iopub.status.idle": "2024-04-22T21:20:54.400707Z",
     "shell.execute_reply": "2024-04-22T21:20:54.399581Z"
    },
    "papermill": {
     "duration": 0.027412,
     "end_time": "2024-04-22T21:20:54.403031",
     "exception": false,
     "start_time": "2024-04-22T21:20:54.375619",
     "status": "completed"
    },
    "tags": []
   },
   "outputs": [
    {
     "name": "stdout",
     "output_type": "stream",
     "text": [
      "79089.18237723158\n",
      "81360.45703671314\n"
     ]
    }
   ],
   "source": [
    "print(df_2015['Projected Annual Salary'].mean())\n",
    "print(df_2016['Projected Annual Salary'].mean())"
   ]
  },
  {
   "cell_type": "code",
   "execution_count": 24,
   "id": "daed8736",
   "metadata": {
    "execution": {
     "iopub.execute_input": "2024-04-22T21:20:54.439163Z",
     "iopub.status.busy": "2024-04-22T21:20:54.438274Z",
     "iopub.status.idle": "2024-04-22T21:20:54.449503Z",
     "shell.execute_reply": "2024-04-22T21:20:54.448303Z"
    },
    "papermill": {
     "duration": 0.032382,
     "end_time": "2024-04-22T21:20:54.452366",
     "exception": false,
     "start_time": "2024-04-22T21:20:54.419984",
     "status": "completed"
    },
    "tags": []
   },
   "outputs": [
    {
     "data": {
      "text/plain": [
       "TtestResult(statistic=-13.304975548078414, pvalue=1.1342301795748602e-40, df=170679.0)"
      ]
     },
     "execution_count": 24,
     "metadata": {},
     "output_type": "execute_result"
    }
   ],
   "source": [
    "stats.ttest_ind(a = df_2015['Projected Annual Salary'], b=df_2016['Projected Annual Salary'],equal_var=True,alternative='less')"
   ]
  },
  {
   "cell_type": "markdown",
   "id": "d7e9379d",
   "metadata": {
    "papermill": {
     "duration": 0.016937,
     "end_time": "2024-04-22T21:20:54.486563",
     "exception": false,
     "start_time": "2024-04-22T21:20:54.469626",
     "status": "completed"
    },
    "tags": []
   },
   "source": [
    "P value is less than 0.05 so we can reject the null hypothesis and accept the alternative and conclude that 2015 ave annual salary is less than 2016 ave annual salary"
   ]
  },
  {
   "cell_type": "markdown",
   "id": "53022db6",
   "metadata": {
    "papermill": {
     "duration": 0.016998,
     "end_time": "2024-04-22T21:20:54.520827",
     "exception": false,
     "start_time": "2024-04-22T21:20:54.503829",
     "status": "completed"
    },
    "tags": []
   },
   "source": [
    "# ANOVA and F-Test"
   ]
  },
  {
   "cell_type": "markdown",
   "id": "4d82aeb4",
   "metadata": {
    "papermill": {
     "duration": 0.016889,
     "end_time": "2024-04-22T21:20:54.554945",
     "exception": false,
     "start_time": "2024-04-22T21:20:54.538056",
     "status": "completed"
    },
    "tags": []
   },
   "source": [
    "**One-way F-test:**"
   ]
  },
  {
   "cell_type": "markdown",
   "id": "e31987fd",
   "metadata": {
    "papermill": {
     "duration": 0.016893,
     "end_time": "2024-04-22T21:20:54.588945",
     "exception": false,
     "start_time": "2024-04-22T21:20:54.572052",
     "status": "completed"
    },
    "tags": []
   },
   "source": [
    "Null Hypothesis(H0): means of 2014,2015,2016 base salary are equal\n",
    "\n",
    "Alternative(Ha): At least one mean is different\n",
    "    \n",
    "https://statistics.laerd.com/statistical-guides/one-way-anova-statistical-guide.php\n",
    "\n",
    "https://www.geeksforgeeks.org/how-to-perform-a-one-way-anova-in-python/"
   ]
  },
  {
   "cell_type": "code",
   "execution_count": 25,
   "id": "d05340dd",
   "metadata": {
    "execution": {
     "iopub.execute_input": "2024-04-22T21:20:54.625115Z",
     "iopub.status.busy": "2024-04-22T21:20:54.624703Z",
     "iopub.status.idle": "2024-04-22T21:20:54.636743Z",
     "shell.execute_reply": "2024-04-22T21:20:54.635587Z"
    },
    "papermill": {
     "duration": 0.033211,
     "end_time": "2024-04-22T21:20:54.639360",
     "exception": false,
     "start_time": "2024-04-22T21:20:54.606149",
     "status": "completed"
    },
    "tags": []
   },
   "outputs": [
    {
     "data": {
      "text/plain": [
       "F_onewayResult(statistic=43817.45255817798, pvalue=0.0)"
      ]
     },
     "execution_count": 25,
     "metadata": {},
     "output_type": "execute_result"
    }
   ],
   "source": [
    "stats.f_oneway(df_2014['Base Pay'], df_2015['Base Pay'], df_2016['Base Pay'] )"
   ]
  },
  {
   "cell_type": "markdown",
   "id": "32e9161c",
   "metadata": {
    "papermill": {
     "duration": 0.017009,
     "end_time": "2024-04-22T21:20:54.673853",
     "exception": false,
     "start_time": "2024-04-22T21:20:54.656844",
     "status": "completed"
    },
    "tags": []
   },
   "source": [
    "p value is almost 0 , we reject the null hypothesis and conclude that at lease one mean of base salary in yrs 2014-2016 are different"
   ]
  },
  {
   "cell_type": "markdown",
   "id": "e1801b4f",
   "metadata": {
    "papermill": {
     "duration": 0.017308,
     "end_time": "2024-04-22T21:20:54.770818",
     "exception": false,
     "start_time": "2024-04-22T21:20:54.753510",
     "status": "completed"
    },
    "tags": []
   },
   "source": [
    "**Two way F-Test:**"
   ]
  },
  {
   "cell_type": "code",
   "execution_count": 26,
   "id": "dcb0b165",
   "metadata": {
    "execution": {
     "iopub.execute_input": "2024-04-22T21:20:54.807902Z",
     "iopub.status.busy": "2024-04-22T21:20:54.807505Z",
     "iopub.status.idle": "2024-04-22T21:20:54.822384Z",
     "shell.execute_reply": "2024-04-22T21:20:54.821384Z"
    },
    "papermill": {
     "duration": 0.0366,
     "end_time": "2024-04-22T21:20:54.825111",
     "exception": false,
     "start_time": "2024-04-22T21:20:54.788511",
     "status": "completed"
    },
    "tags": []
   },
   "outputs": [],
   "source": [
    "df=df_data[['Projected Annual Salary', 'Q1 Payments',\n",
    "       'Q2 Payments', 'Q3 Payments', 'Q4 Payments']]\n",
    "df.columns=['Projected_Annual_Salary', 'Q1_Payments',\n",
    "       'Q2_Payments', 'Q3_Payments', 'Q4_Payments']"
   ]
  },
  {
   "cell_type": "code",
   "execution_count": 27,
   "id": "1caed131",
   "metadata": {
    "execution": {
     "iopub.execute_input": "2024-04-22T21:20:54.862064Z",
     "iopub.status.busy": "2024-04-22T21:20:54.861655Z",
     "iopub.status.idle": "2024-04-22T21:20:55.510250Z",
     "shell.execute_reply": "2024-04-22T21:20:55.508416Z"
    },
    "papermill": {
     "duration": 0.678279,
     "end_time": "2024-04-22T21:20:55.520788",
     "exception": false,
     "start_time": "2024-04-22T21:20:54.842509",
     "status": "completed"
    },
    "tags": []
   },
   "outputs": [],
   "source": [
    "from statsmodels.formula.api import ols\n",
    "Ols_multiple=ols('Projected_Annual_Salary ~ Q1_Payments+Q2_Payments+Q3_Payments+Q4_Payments ',data=df).fit()"
   ]
  },
  {
   "cell_type": "code",
   "execution_count": 28,
   "id": "157bcf29",
   "metadata": {
    "execution": {
     "iopub.execute_input": "2024-04-22T21:20:55.602939Z",
     "iopub.status.busy": "2024-04-22T21:20:55.601106Z",
     "iopub.status.idle": "2024-04-22T21:20:56.907899Z",
     "shell.execute_reply": "2024-04-22T21:20:56.906353Z"
    },
    "papermill": {
     "duration": 1.351506,
     "end_time": "2024-04-22T21:20:56.912068",
     "exception": false,
     "start_time": "2024-04-22T21:20:55.560562",
     "status": "completed"
    },
    "tags": []
   },
   "outputs": [
    {
     "name": "stdout",
     "output_type": "stream",
     "text": [
      "                   sum_sq        df              F         PR(>F)\n",
      "Q1_Payments  1.086021e+14       1.0  279182.466955   0.000000e+00\n",
      "Q2_Payments  2.946620e+11       1.0     757.484810  1.565744e-166\n",
      "Q3_Payments  3.143376e+09       1.0       8.080647   4.474364e-03\n",
      "Q4_Payments  1.006505e+12       1.0    2587.411781   0.000000e+00\n",
      "Residual     1.108663e+14  285003.0            NaN            NaN\n"
     ]
    }
   ],
   "source": [
    "import statsmodels.api as sm\n",
    "\n",
    "print(sm.stats.anova_lm(Ols_multiple, typ=2))"
   ]
  },
  {
   "cell_type": "code",
   "execution_count": 29,
   "id": "d1a43333",
   "metadata": {
    "execution": {
     "iopub.execute_input": "2024-04-22T21:20:56.989465Z",
     "iopub.status.busy": "2024-04-22T21:20:56.988393Z",
     "iopub.status.idle": "2024-04-22T21:20:57.081700Z",
     "shell.execute_reply": "2024-04-22T21:20:57.080521Z"
    },
    "papermill": {
     "duration": 0.136375,
     "end_time": "2024-04-22T21:20:57.085550",
     "exception": false,
     "start_time": "2024-04-22T21:20:56.949175",
     "status": "completed"
    },
    "tags": []
   },
   "outputs": [
    {
     "data": {
      "text/html": [
       "<table class=\"simpletable\">\n",
       "<caption>OLS Regression Results</caption>\n",
       "<tr>\n",
       "  <th>Dep. Variable:</th>    <td>Projected_Annual_Salary</td> <th>  R-squared:         </th>  <td>   0.653</td>  \n",
       "</tr>\n",
       "<tr>\n",
       "  <th>Model:</th>                      <td>OLS</td>           <th>  Adj. R-squared:    </th>  <td>   0.653</td>  \n",
       "</tr>\n",
       "<tr>\n",
       "  <th>Method:</th>                <td>Least Squares</td>      <th>  F-statistic:       </th>  <td>1.339e+05</td> \n",
       "</tr>\n",
       "<tr>\n",
       "  <th>Date:</th>                <td>Sun, 13 Apr 2025</td>     <th>  Prob (F-statistic):</th>   <td>  0.00</td>   \n",
       "</tr>\n",
       "<tr>\n",
       "  <th>Time:</th>                    <td>19:47:17</td>         <th>  Log-Likelihood:    </th> <td>-3.2230e+06</td>\n",
       "</tr>\n",
       "<tr>\n",
       "  <th>No. Observations:</th>         <td>285008</td>          <th>  AIC:               </th>  <td>6.446e+06</td> \n",
       "</tr>\n",
       "<tr>\n",
       "  <th>Df Residuals:</th>             <td>285003</td>          <th>  BIC:               </th>  <td>6.446e+06</td> \n",
       "</tr>\n",
       "<tr>\n",
       "  <th>Df Model:</th>                 <td>     4</td>          <th>                     </th>      <td> </td>     \n",
       "</tr>\n",
       "<tr>\n",
       "  <th>Covariance Type:</th>         <td>nonrobust</td>        <th>                     </th>      <td> </td>     \n",
       "</tr>\n",
       "</table>\n",
       "<table class=\"simpletable\">\n",
       "<tr>\n",
       "       <td></td>          <th>coef</th>     <th>std err</th>      <th>t</th>      <th>P>|t|</th>  <th>[0.025</th>    <th>0.975]</th>  \n",
       "</tr>\n",
       "<tr>\n",
       "  <th>Intercept</th>   <td> 3.798e+04</td> <td>   68.373</td> <td>  555.456</td> <td> 0.000</td> <td> 3.78e+04</td> <td> 3.81e+04</td>\n",
       "</tr>\n",
       "<tr>\n",
       "  <th>Q1_Payments</th> <td>    1.6969</td> <td>    0.003</td> <td>  528.377</td> <td> 0.000</td> <td>    1.691</td> <td>    1.703</td>\n",
       "</tr>\n",
       "<tr>\n",
       "  <th>Q2_Payments</th> <td>    0.1160</td> <td>    0.004</td> <td>   27.522</td> <td> 0.000</td> <td>    0.108</td> <td>    0.124</td>\n",
       "</tr>\n",
       "<tr>\n",
       "  <th>Q3_Payments</th> <td>   -0.0204</td> <td>    0.007</td> <td>   -2.843</td> <td> 0.004</td> <td>   -0.035</td> <td>   -0.006</td>\n",
       "</tr>\n",
       "<tr>\n",
       "  <th>Q4_Payments</th> <td>    0.3478</td> <td>    0.007</td> <td>   50.867</td> <td> 0.000</td> <td>    0.334</td> <td>    0.361</td>\n",
       "</tr>\n",
       "</table>\n",
       "<table class=\"simpletable\">\n",
       "<tr>\n",
       "  <th>Omnibus:</th>       <td>39763.481</td> <th>  Durbin-Watson:     </th>  <td>   1.499</td> \n",
       "</tr>\n",
       "<tr>\n",
       "  <th>Prob(Omnibus):</th>  <td> 0.000</td>   <th>  Jarque-Bera (JB):  </th> <td>516013.829</td>\n",
       "</tr>\n",
       "<tr>\n",
       "  <th>Skew:</th>           <td> 0.189</td>   <th>  Prob(JB):          </th>  <td>    0.00</td> \n",
       "</tr>\n",
       "<tr>\n",
       "  <th>Kurtosis:</th>       <td> 9.581</td>   <th>  Cond. No.          </th>  <td>7.42e+04</td> \n",
       "</tr>\n",
       "</table><br/><br/>Notes:<br/>[1] Standard Errors assume that the covariance matrix of the errors is correctly specified.<br/>[2] The condition number is large, 7.42e+04. This might indicate that there are<br/>strong multicollinearity or other numerical problems."
      ],
      "text/latex": [
       "\\begin{center}\n",
       "\\begin{tabular}{lclc}\n",
       "\\toprule\n",
       "\\textbf{Dep. Variable:}    & Projected\\_Annual\\_Salary & \\textbf{  R-squared:         } &      0.653   \\\\\n",
       "\\textbf{Model:}            &            OLS            & \\textbf{  Adj. R-squared:    } &      0.653   \\\\\n",
       "\\textbf{Method:}           &       Least Squares       & \\textbf{  F-statistic:       } &  1.339e+05   \\\\\n",
       "\\textbf{Date:}             &      Sun, 13 Apr 2025     & \\textbf{  Prob (F-statistic):} &      0.00    \\\\\n",
       "\\textbf{Time:}             &          19:47:17         & \\textbf{  Log-Likelihood:    } & -3.2230e+06  \\\\\n",
       "\\textbf{No. Observations:} &           285008          & \\textbf{  AIC:               } &  6.446e+06   \\\\\n",
       "\\textbf{Df Residuals:}     &           285003          & \\textbf{  BIC:               } &  6.446e+06   \\\\\n",
       "\\textbf{Df Model:}         &                4          & \\textbf{                     } &              \\\\\n",
       "\\textbf{Covariance Type:}  &         nonrobust         & \\textbf{                     } &              \\\\\n",
       "\\bottomrule\n",
       "\\end{tabular}\n",
       "\\begin{tabular}{lcccccc}\n",
       "                      & \\textbf{coef} & \\textbf{std err} & \\textbf{t} & \\textbf{P$> |$t$|$} & \\textbf{[0.025} & \\textbf{0.975]}  \\\\\n",
       "\\midrule\n",
       "\\textbf{Intercept}    &    3.798e+04  &       68.373     &   555.456  &         0.000        &     3.78e+04    &     3.81e+04     \\\\\n",
       "\\textbf{Q1\\_Payments} &       1.6969  &        0.003     &   528.377  &         0.000        &        1.691    &        1.703     \\\\\n",
       "\\textbf{Q2\\_Payments} &       0.1160  &        0.004     &    27.522  &         0.000        &        0.108    &        0.124     \\\\\n",
       "\\textbf{Q3\\_Payments} &      -0.0204  &        0.007     &    -2.843  &         0.004        &       -0.035    &       -0.006     \\\\\n",
       "\\textbf{Q4\\_Payments} &       0.3478  &        0.007     &    50.867  &         0.000        &        0.334    &        0.361     \\\\\n",
       "\\bottomrule\n",
       "\\end{tabular}\n",
       "\\begin{tabular}{lclc}\n",
       "\\textbf{Omnibus:}       & 39763.481 & \\textbf{  Durbin-Watson:     } &     1.499   \\\\\n",
       "\\textbf{Prob(Omnibus):} &    0.000  & \\textbf{  Jarque-Bera (JB):  } & 516013.829  \\\\\n",
       "\\textbf{Skew:}          &    0.189  & \\textbf{  Prob(JB):          } &      0.00   \\\\\n",
       "\\textbf{Kurtosis:}      &    9.581  & \\textbf{  Cond. No.          } &  7.42e+04   \\\\\n",
       "\\bottomrule\n",
       "\\end{tabular}\n",
       "%\\caption{OLS Regression Results}\n",
       "\\end{center}\n",
       "\n",
       "Notes: \\newline\n",
       " [1] Standard Errors assume that the covariance matrix of the errors is correctly specified. \\newline\n",
       " [2] The condition number is large, 7.42e+04. This might indicate that there are \\newline\n",
       " strong multicollinearity or other numerical problems."
      ],
      "text/plain": [
       "<class 'statsmodels.iolib.summary.Summary'>\n",
       "\"\"\"\n",
       "                               OLS Regression Results                              \n",
       "===================================================================================\n",
       "Dep. Variable:     Projected_Annual_Salary   R-squared:                       0.653\n",
       "Model:                                 OLS   Adj. R-squared:                  0.653\n",
       "Method:                      Least Squares   F-statistic:                 1.339e+05\n",
       "Date:                     Sun, 13 Apr 2025   Prob (F-statistic):               0.00\n",
       "Time:                             19:47:17   Log-Likelihood:            -3.2230e+06\n",
       "No. Observations:                   285008   AIC:                         6.446e+06\n",
       "Df Residuals:                       285003   BIC:                         6.446e+06\n",
       "Df Model:                                4                                         \n",
       "Covariance Type:                 nonrobust                                         \n",
       "===============================================================================\n",
       "                  coef    std err          t      P>|t|      [0.025      0.975]\n",
       "-------------------------------------------------------------------------------\n",
       "Intercept    3.798e+04     68.373    555.456      0.000    3.78e+04    3.81e+04\n",
       "Q1_Payments     1.6969      0.003    528.377      0.000       1.691       1.703\n",
       "Q2_Payments     0.1160      0.004     27.522      0.000       0.108       0.124\n",
       "Q3_Payments    -0.0204      0.007     -2.843      0.004      -0.035      -0.006\n",
       "Q4_Payments     0.3478      0.007     50.867      0.000       0.334       0.361\n",
       "==============================================================================\n",
       "Omnibus:                    39763.481   Durbin-Watson:                   1.499\n",
       "Prob(Omnibus):                  0.000   Jarque-Bera (JB):           516013.829\n",
       "Skew:                           0.189   Prob(JB):                         0.00\n",
       "Kurtosis:                       9.581   Cond. No.                     7.42e+04\n",
       "==============================================================================\n",
       "\n",
       "Notes:\n",
       "[1] Standard Errors assume that the covariance matrix of the errors is correctly specified.\n",
       "[2] The condition number is large, 7.42e+04. This might indicate that there are\n",
       "strong multicollinearity or other numerical problems.\n",
       "\"\"\""
      ]
     },
     "execution_count": 29,
     "metadata": {},
     "output_type": "execute_result"
    }
   ],
   "source": [
    "Ols_multiple.summary()"
   ]
  },
  {
   "cell_type": "markdown",
   "id": "17e5f2fe",
   "metadata": {
    "papermill": {
     "duration": 0.0279,
     "end_time": "2024-04-22T21:20:57.151501",
     "exception": false,
     "start_time": "2024-04-22T21:20:57.123601",
     "status": "completed"
    },
    "tags": []
   },
   "source": [
    "All 4 factors are significant(small P value). Next let's fit a linear regression and see how much the quaterly payments explain total annual pay"
   ]
  },
  {
   "cell_type": "markdown",
   "id": "498b222c",
   "metadata": {
    "papermill": {
     "duration": 0.018114,
     "end_time": "2024-04-22T21:20:57.187543",
     "exception": false,
     "start_time": "2024-04-22T21:20:57.169429",
     "status": "completed"
    },
    "tags": []
   },
   "source": [
    "**Fit a linear regression model and get predictive insights:**"
   ]
  },
  {
   "cell_type": "code",
   "execution_count": 30,
   "id": "2c524022",
   "metadata": {
    "execution": {
     "iopub.execute_input": "2024-04-22T21:20:57.226499Z",
     "iopub.status.busy": "2024-04-22T21:20:57.225842Z",
     "iopub.status.idle": "2024-04-22T21:20:57.747493Z",
     "shell.execute_reply": "2024-04-22T21:20:57.745863Z"
    },
    "papermill": {
     "duration": 0.546003,
     "end_time": "2024-04-22T21:20:57.751738",
     "exception": false,
     "start_time": "2024-04-22T21:20:57.205735",
     "status": "completed"
    },
    "tags": []
   },
   "outputs": [],
   "source": [
    "from sklearn import linear_model\n",
    "from sklearn.model_selection import train_test_split\n",
    "from sklearn.metrics import accuracy_score\n",
    "\n",
    "X_train, X_test, y_train, y_test = train_test_split(df.drop(['Projected_Annual_Salary'],axis=1), df['Projected_Annual_Salary'], test_size=0.33, random_state=42)\n",
    "\n",
    "Model=linear_model.LinearRegression().fit(X_train,y_train)"
   ]
  },
  {
   "cell_type": "code",
   "execution_count": 31,
   "id": "57dcd56f",
   "metadata": {
    "execution": {
     "iopub.execute_input": "2024-04-22T21:20:57.831520Z",
     "iopub.status.busy": "2024-04-22T21:20:57.829533Z",
     "iopub.status.idle": "2024-04-22T21:20:57.864446Z",
     "shell.execute_reply": "2024-04-22T21:20:57.862916Z"
    },
    "papermill": {
     "duration": 0.079668,
     "end_time": "2024-04-22T21:20:57.869372",
     "exception": false,
     "start_time": "2024-04-22T21:20:57.789704",
     "status": "completed"
    },
    "tags": []
   },
   "outputs": [
    {
     "data": {
      "text/plain": [
       "0.6485539385447638"
      ]
     },
     "execution_count": 31,
     "metadata": {},
     "output_type": "execute_result"
    }
   ],
   "source": [
    "Model.score(X_test,y_test)"
   ]
  },
  {
   "cell_type": "markdown",
   "id": "4bd2df33",
   "metadata": {
    "papermill": {
     "duration": 0.040111,
     "end_time": "2024-04-22T21:20:57.950925",
     "exception": false,
     "start_time": "2024-04-22T21:20:57.910814",
     "status": "completed"
    },
    "tags": []
   },
   "source": [
    "The R square (0.64855) is similar to what our ANOVA table shows (0.653). \n",
    "\n",
    "It means the quarterly payments can explain about 65% of the annual salary value"
   ]
  }
 ],
 "metadata": {
  "kaggle": {
   "accelerator": "none",
   "dataSources": [
    {
     "datasetId": 454,
     "sourceId": 924,
     "sourceType": "datasetVersion"
    }
   ],
   "dockerImageVersionId": 30698,
   "isGpuEnabled": false,
   "isInternetEnabled": true,
   "language": "python",
   "sourceType": "notebook"
  },
  "kernelspec": {
   "display_name": "Python 3",
   "language": "python",
   "name": "python3"
  },
  "language_info": {
   "codemirror_mode": {
    "name": "ipython",
    "version": 3
   },
   "file_extension": ".py",
   "mimetype": "text/x-python",
   "name": "python",
   "nbconvert_exporter": "python",
   "pygments_lexer": "ipython3",
   "version": "3.11.7"
  },
  "papermill": {
   "default_parameters": {},
   "duration": 39.582597,
   "end_time": "2024-04-22T21:20:59.302163",
   "environment_variables": {},
   "exception": null,
   "input_path": "__notebook__.ipynb",
   "output_path": "__notebook__.ipynb",
   "parameters": {},
   "start_time": "2024-04-22T21:20:19.719566",
   "version": "2.5.0"
  }
 },
 "nbformat": 4,
 "nbformat_minor": 5
}
